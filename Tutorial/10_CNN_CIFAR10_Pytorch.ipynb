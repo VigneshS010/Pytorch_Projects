{
 "cells": [
  {
   "cell_type": "code",
   "execution_count": 1,
   "id": "e3b46b63-32c1-4f37-bdc2-05be080876d7",
   "metadata": {},
   "outputs": [],
   "source": [
    "# Importing the Libraries\n",
    "\n",
    "import torch\n",
    "import torch.nn as nn\n",
    "import torch.optim as optim\n",
    "import torch.nn.functional as F\n",
    "from torchvision import datasets, transforms\n",
    "from torch.utils.data import DataLoader"
   ]
  },
  {
   "cell_type": "code",
   "execution_count": 2,
   "id": "167e63be-7bb3-4d35-a0c2-db788de6cf3d",
   "metadata": {},
   "outputs": [
    {
     "name": "stdout",
     "output_type": "stream",
     "text": [
      "Using Device : cuda\n"
     ]
    }
   ],
   "source": [
    "# Device setup\n",
    "\n",
    "device = torch.device('cuda' if torch.cuda.is_available() else 'cpu')\n",
    "print('Using Device :',device) "
   ]
  },
  {
   "cell_type": "code",
   "execution_count": 3,
   "id": "f042f0a7-006b-479c-ae23-d3b50f49213b",
   "metadata": {},
   "outputs": [
    {
     "name": "stdout",
     "output_type": "stream",
     "text": [
      "Files already downloaded and verified\n",
      "Files already downloaded and verified\n"
     ]
    }
   ],
   "source": [
    "# Data Transforms\n",
    "\n",
    "transform = transforms.Compose([\n",
    "    transforms.ToTensor(),\n",
    "    transforms.Normalize((0.5,0.5,0.5), (0.5,0.5,0.5))   # Mean, std for RGB\n",
    "])\n",
    "\n",
    "\n",
    "# Load CIFAR10 Dataset \n",
    "train_dataset = datasets.CIFAR10(root='./cifar10', train=True, download=True, transform=transform)\n",
    "test_dataset = datasets.CIFAR10(root='./cifar10', train=False, download=True, transform=transform)\n",
    "\n",
    "# Dataloader \n",
    "train_dataloader = DataLoader(train_dataset, shuffle=True, num_workers=8, batch_size=64)\n",
    "test_dataloader = DataLoader(test_dataset, shuffle=True, num_workers=8, batch_size=64)"
   ]
  },
  {
   "cell_type": "code",
   "execution_count": 16,
   "id": "8add7b64-711f-4d98-898f-a832f6aa2fc9",
   "metadata": {},
   "outputs": [
    {
     "data": {
      "text/plain": [
       "BetterCNN(\n",
       "  (conv1): Conv2d(3, 32, kernel_size=(3, 3), stride=(1, 1), padding=(1, 1))\n",
       "  (bn1): BatchNorm2d(32, eps=1e-05, momentum=0.1, affine=True, track_running_stats=True)\n",
       "  (conv2): Conv2d(32, 64, kernel_size=(3, 3), stride=(1, 1), padding=(1, 1))\n",
       "  (bn2): BatchNorm2d(64, eps=1e-05, momentum=0.1, affine=True, track_running_stats=True)\n",
       "  (pool): MaxPool2d(kernel_size=2, stride=2, padding=0, dilation=1, ceil_mode=False)\n",
       "  (conv3): Conv2d(64, 128, kernel_size=(3, 3), stride=(1, 1), padding=(1, 1))\n",
       "  (bn3): BatchNorm2d(128, eps=1e-05, momentum=0.1, affine=True, track_running_stats=True)\n",
       "  (conv4): Conv2d(128, 128, kernel_size=(3, 3), stride=(1, 1), padding=(1, 1))\n",
       "  (bn4): BatchNorm2d(128, eps=1e-05, momentum=0.1, affine=True, track_running_stats=True)\n",
       "  (pool2): MaxPool2d(kernel_size=2, stride=2, padding=0, dilation=1, ceil_mode=False)\n",
       "  (fc1): Linear(in_features=8192, out_features=256, bias=True)\n",
       "  (dropout): Dropout(p=0.5, inplace=False)\n",
       "  (fc2): Linear(in_features=256, out_features=10, bias=True)\n",
       ")"
      ]
     },
     "execution_count": 16,
     "metadata": {},
     "output_type": "execute_result"
    }
   ],
   "source": [
    "# Define Model\n",
    "\n",
    "# class SimpleCNN(nn.Module):\n",
    "#     def __init__(self):\n",
    "#         super(SimpleCNN, self).__init__()\n",
    "#         self.conv1 = nn.Conv2d(3, 32, kernel_size=3, padding=1)  # input=3x32x32 -> output=32x32x32\n",
    "#         self.conv2 = nn.Conv2d(32, 64, kernel_size=3, padding=1) # -> 64x32x32\n",
    "#         self.pool = nn.MaxPool2d(2, 2)  # -> 64x16x16\n",
    "#         self.fc1 = nn.Linear(64 * 16 * 16, 128)\n",
    "#         self.fc2 = nn.Linear(128, 10)   # CIFAR10 has 10 classes\n",
    "\n",
    "#     def forward(self, x):\n",
    "#         x = F.relu(self.conv1(x))\n",
    "#         x = F.relu(self.conv2(x))\n",
    "#         x = self.pool(x)\n",
    "#         x = x.view(-1, 64 * 16 * 16)    # Flatten\n",
    "#         x = F.relu(self.fc1(x))\n",
    "#         x = self.fc2(x)\n",
    "#         return x\n",
    "\n",
    "# model = SimpleCNN().to(device)\n",
    "# model.eval()\n",
    "\n",
    "\n",
    "\n",
    "class BetterCNN(nn.Module):\n",
    "    def __init__(self):\n",
    "        super(BetterCNN, self).__init__()\n",
    "        # Conv Block 1\n",
    "        self.conv1 = nn.Conv2d(3, 32, 3, padding=1)\n",
    "        self.bn1 = nn.BatchNorm2d(32)\n",
    "        self.conv2 = nn.Conv2d(32, 64, 3, padding=1)\n",
    "        self.bn2 = nn.BatchNorm2d(64)\n",
    "        self.pool = nn.MaxPool2d(2, 2)  # 32x32 -> 16x16\n",
    "\n",
    "        # Conv Block 2\n",
    "        self.conv3 = nn.Conv2d(64, 128, 3, padding=1)\n",
    "        self.bn3 = nn.BatchNorm2d(128)\n",
    "        self.conv4 = nn.Conv2d(128, 128, 3, padding=1)\n",
    "        self.bn4 = nn.BatchNorm2d(128)\n",
    "        self.pool2 = nn.MaxPool2d(2, 2) # 16x16 -> 8x8\n",
    "\n",
    "        # Fully connected layers\n",
    "        self.fc1 = nn.Linear(128*8*8, 256)\n",
    "        self.dropout = nn.Dropout(0.5)   # Dropout to avoid overfitting\n",
    "        self.fc2 = nn.Linear(256, 10)    # CIFAR10 has 10 classes\n",
    "\n",
    "    def forward(self, x):\n",
    "        x = F.relu(self.bn1(self.conv1(x)))\n",
    "        x = F.relu(self.bn2(self.conv2(x)))\n",
    "        x = self.pool(x)\n",
    "\n",
    "        x = F.relu(self.bn3(self.conv3(x)))\n",
    "        x = F.relu(self.bn4(self.conv4(x)))\n",
    "        x = self.pool2(x)\n",
    "\n",
    "        x = x.view(-1, 128*8*8)\n",
    "        x = F.relu(self.fc1(x))\n",
    "        x = self.dropout(x)\n",
    "        x = self.fc2(x)\n",
    "        return x\n",
    "\n",
    "\n",
    "model = BetterCNN().to(device)\n",
    "model.eval()"
   ]
  },
  {
   "cell_type": "code",
   "execution_count": 18,
   "id": "9d37bde1-7c9c-4ae2-a7b8-5c13f96ae93f",
   "metadata": {},
   "outputs": [
    {
     "name": "stdout",
     "output_type": "stream",
     "text": [
      "Epoch [1/5], Batch [0], Loss: 1.1274\n",
      "Epoch [1/5], Batch [100], Loss: 1.4657\n",
      "Epoch [1/5], Batch [200], Loss: 1.5543\n",
      "Epoch [1/5], Batch [300], Loss: 1.6957\n",
      "Epoch [1/5], Batch [400], Loss: 1.1592\n",
      "Epoch [1/5], Batch [500], Loss: 1.1922\n",
      "Epoch [1/5], Batch [600], Loss: 0.9466\n",
      "Epoch [1/5], Batch [700], Loss: 0.9042\n",
      "Epoch [1/5], Avg Loss: 1.2387\n",
      "Epoch [2/5], Batch [0], Loss: 1.1014\n",
      "Epoch [2/5], Batch [100], Loss: 1.0629\n",
      "Epoch [2/5], Batch [200], Loss: 0.7973\n",
      "Epoch [2/5], Batch [300], Loss: 0.8103\n",
      "Epoch [2/5], Batch [400], Loss: 1.0974\n",
      "Epoch [2/5], Batch [500], Loss: 1.0841\n",
      "Epoch [2/5], Batch [600], Loss: 0.8505\n",
      "Epoch [2/5], Batch [700], Loss: 1.0276\n",
      "Epoch [2/5], Avg Loss: 0.9557\n",
      "Epoch [3/5], Batch [0], Loss: 0.9536\n",
      "Epoch [3/5], Batch [100], Loss: 0.8618\n",
      "Epoch [3/5], Batch [200], Loss: 1.1510\n",
      "Epoch [3/5], Batch [300], Loss: 0.9572\n",
      "Epoch [3/5], Batch [400], Loss: 0.8048\n",
      "Epoch [3/5], Batch [500], Loss: 0.7616\n",
      "Epoch [3/5], Batch [600], Loss: 0.7259\n",
      "Epoch [3/5], Batch [700], Loss: 0.8174\n",
      "Epoch [3/5], Avg Loss: 0.8397\n",
      "Epoch [4/5], Batch [0], Loss: 0.8029\n",
      "Epoch [4/5], Batch [100], Loss: 0.7349\n",
      "Epoch [4/5], Batch [200], Loss: 0.8466\n",
      "Epoch [4/5], Batch [300], Loss: 0.6877\n",
      "Epoch [4/5], Batch [400], Loss: 0.7268\n",
      "Epoch [4/5], Batch [500], Loss: 0.9955\n",
      "Epoch [4/5], Batch [600], Loss: 0.7328\n",
      "Epoch [4/5], Batch [700], Loss: 0.7173\n",
      "Epoch [4/5], Avg Loss: 0.7536\n",
      "Epoch [5/5], Batch [0], Loss: 0.6721\n",
      "Epoch [5/5], Batch [100], Loss: 0.5300\n",
      "Epoch [5/5], Batch [200], Loss: 0.7828\n",
      "Epoch [5/5], Batch [300], Loss: 0.6193\n",
      "Epoch [5/5], Batch [400], Loss: 0.6817\n",
      "Epoch [5/5], Batch [500], Loss: 0.6697\n",
      "Epoch [5/5], Batch [600], Loss: 0.7244\n",
      "Epoch [5/5], Batch [700], Loss: 0.5891\n",
      "Epoch [5/5], Avg Loss: 0.6818\n"
     ]
    }
   ],
   "source": [
    "# Loss and Optimizer\n",
    "\n",
    "criterion = nn.CrossEntropyLoss()\n",
    "optimizer = optim.Adam(model.parameters(), lr=0.0005)\n",
    "\n",
    "# Training Loop\n",
    "epochs= 5\n",
    "for epoch in range(epochs):\n",
    "    model.train()         # Mode switch in pytorch, not actually training itself\n",
    "                          # Some layers in NN behave differently during training \n",
    "                          # Dropout. BatchNOrm, so .train() tells Switch all model into training mode\n",
    "    running_loss = 0.0\n",
    "    for idx, (images, labels) in enumerate(train_dataloader):\n",
    "        images, labels = images.to(device), labels.to(device)\n",
    "\n",
    "        # Zero gradients\n",
    "        optimizer.zero_grad()\n",
    "\n",
    "        # Forward pass\n",
    "        outputs = model(images)\n",
    "\n",
    "        loss = criterion(outputs, labels)\n",
    "\n",
    "        # Backward pass\n",
    "        loss.backward()\n",
    "        optimizer.step()\n",
    "\n",
    "        running_loss += loss.item()\n",
    "\n",
    "        if idx % 100 == 0:\n",
    "            print(f\"Epoch [{epoch+1}/{epochs}], Batch [{idx}], Loss: {loss.item():.4f}\")\n",
    "\n",
    "    print(f\"Epoch [{epoch+1}/{epochs}], Avg Loss: {running_loss/len(train_dataloader):.4f}\")"
   ]
  },
  {
   "cell_type": "code",
   "execution_count": 19,
   "id": "07382874-62f1-4869-bfda-ec55d31e851d",
   "metadata": {},
   "outputs": [
    {
     "name": "stdout",
     "output_type": "stream",
     "text": [
      "Accuracy on CIFAR-10 test set: 77.49%\n"
     ]
    }
   ],
   "source": [
    "model.eval()\n",
    "correct, total = 0, 0\n",
    "with torch.no_grad():\n",
    "    for images, labels in test_dataloader:\n",
    "        images, labels = images.to(device), labels.to(device)\n",
    "        outputs = model(images)\n",
    "        _, predicted = torch.max(outputs, 1)\n",
    "        total += labels.size(0)\n",
    "        correct += (predicted == labels).sum().item()\n",
    "\n",
    "print(f\"Accuracy on CIFAR-10 test set: {100 * correct / total:.2f}%\")"
   ]
  },
  {
   "cell_type": "code",
   "execution_count": null,
   "id": "ece88fd0-2b1b-46ba-82c1-7c853c21882c",
   "metadata": {},
   "outputs": [],
   "source": []
  }
 ],
 "metadata": {
  "kernelspec": {
   "display_name": "Python (custom)",
   "language": "python",
   "name": "custom"
  },
  "language_info": {
   "codemirror_mode": {
    "name": "ipython",
    "version": 3
   },
   "file_extension": ".py",
   "mimetype": "text/x-python",
   "name": "python",
   "nbconvert_exporter": "python",
   "pygments_lexer": "ipython3",
   "version": "3.11.11"
  }
 },
 "nbformat": 4,
 "nbformat_minor": 5
}

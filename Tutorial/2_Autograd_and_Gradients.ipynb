{
 "cells": [
  {
   "cell_type": "code",
   "execution_count": 10,
   "id": "f198c72c",
   "metadata": {},
   "outputs": [
    {
     "name": "stdout",
     "output_type": "stream",
     "text": [
      "tensor([[1., 2.],\n",
      "        [3., 4.]], requires_grad=True)\n",
      "tensor([[3., 4.],\n",
      "        [5., 6.]], grad_fn=<AddBackward0>)\n",
      "tensor([[18., 32.],\n",
      "        [50., 72.]], grad_fn=<MulBackward0>)\n",
      "tensor(43., grad_fn=<MeanBackward0>)\n",
      "tensor([[3., 4.],\n",
      "        [5., 6.]])\n"
     ]
    }
   ],
   "source": [
    "import torch\n",
    "\n",
    "x = torch.tensor([[1, 2], [3, 4]], requires_grad=True, dtype=torch.float32)\n",
    "print(x)\n",
    "\n",
    "y = x + 2\n",
    "print(y)\n",
    "\n",
    "z = y * y * 2\n",
    "print(z)\n",
    "\n",
    "z = z.mean()\n",
    "print(z)\n",
    "\n",
    "# backpropagation\n",
    "z.backward()     # dz/dx\n",
    "print(x.grad)\n",
    "\n",
    "\n",
    "# dz/dx = 2 * (x + 2) * 2 / N\n",
    "# dz/dx = 4 * (x + 2) / N\n",
    "# where N is the number of elements in x\n",
    "# for x = [[1, 2], [3, 4]]\n",
    "# dz/dx = 4 * ([[1, 2], [3, 4]] + 2) / 4\n",
    "# dz/dx = [[3, 4], [5, 6]] = x.grad\n",
    "\n",
    "# v = torch.tensor([0.1, 1.0, 0.001], dtype=torch.float32)\n",
    "# z.backward(v)  # dz/dx * v\n",
    "# print(x.grad)\n",
    "# dz/dx = 2 * (x + 2) * 2\n",
    "# dz/dx = 4 * (x + 2)\n",
    "# for x = [[1, 2], [3, 4]]\n",
    "# dz/dx = 4 * ([[1, 2], [3, 4]] + 2)\n",
    "# dz/dx = [[12, 16], [20, 24]]\n",
    "# dz/dx * v = [[1.2, 16, 0.024], [2.0, 24, 0.096]] = x.grad"
   ]
  },
  {
   "cell_type": "code",
   "execution_count": 14,
   "id": "16be3481",
   "metadata": {},
   "outputs": [
    {
     "name": "stdout",
     "output_type": "stream",
     "text": [
      "tensor([[1., 2.],\n",
      "        [3., 4.]], requires_grad=True)\n",
      "tensor([[1., 2.],\n",
      "        [3., 4.]])\n",
      "tensor([[1., 2.],\n",
      "        [3., 4.]])\n",
      "tensor([[3., 4.],\n",
      "        [5., 6.]])\n"
     ]
    }
   ],
   "source": [
    "# Prevent pytorch to automatically calculate gradients\n",
    "# There are 3 ways\n",
    "\n",
    "# 1. x.requires_grad_(False)\n",
    "# 2. x.detach()   # This creates a new tensor that does not require gradients\n",
    "# 3. with torch.no_grad():   # Temporarily set all the requires_grad flags to false\n",
    "\n",
    "x = torch.tensor([[1, 2], [3, 4]], requires_grad=True, dtype=torch.float)\n",
    "print(x)\n",
    "\n",
    "# 1. x.requires_grad_(False)\n",
    "x.requires_grad_(False)\n",
    "print(x)\n",
    "\n",
    "# 2. x.detach()   # This creates a new tensor that does not require gradients\n",
    "y = x.detach()\n",
    "q = y + 2\n",
    "print(y)\n",
    "\n",
    "# 3. with torch.no_grad():   # Temporarily set all the requires_grad flags to false\n",
    "with torch.no_grad():\n",
    "    y = x + 2\n",
    "    print(y)\n"
   ]
  },
  {
   "cell_type": "code",
   "execution_count": 19,
   "id": "7b3cde60",
   "metadata": {},
   "outputs": [
    {
     "name": "stdout",
     "output_type": "stream",
     "text": [
      "tensor([3., 3., 3.])\n",
      "tensor([6., 6., 6.])\n",
      "tensor([9., 9., 9.])\n",
      "\n",
      "Solution\n",
      "\n",
      "tensor([3., 3., 3.])\n",
      "tensor([3., 3., 3.])\n",
      "tensor([3., 3., 3.])\n"
     ]
    }
   ],
   "source": [
    "# There are an issue\n",
    "# Gradiesnts will add up by default in every backward call  \n",
    "\n",
    "# For eg\n",
    "weights = torch.ones(3, requires_grad=True)\n",
    "for epoch in range(3):\n",
    "    model_output = (weights * 3).sum()\n",
    "    model_output.backward()\n",
    "    print(weights.grad)\n",
    "\n",
    "\n",
    "\n",
    "print('\\nSolution\\n')\n",
    "\n",
    "# To avoid this we need to manually set the gradients to zero\n",
    "weights = torch.ones(3, requires_grad=True)\n",
    "for epoch in range(3):\n",
    "    model_output = (weights * 3).sum()\n",
    "    model_output.backward()\n",
    "    print(weights.grad)\n",
    "    weights.grad.zero_()  # Manually set the gradients to zero"
   ]
  },
  {
   "cell_type": "code",
   "execution_count": 24,
   "id": "4c3ace95",
   "metadata": {},
   "outputs": [],
   "source": [
    "# same issue with optimizer in pytorch\n",
    "# import torch\n",
    "\n",
    "# weights = torch.ones(4, requires_grad=True)\n",
    "# optimizer = torch.optim.SGD(weights, lr=0.01)\n",
    "# optimizer.step() # Does the update\n",
    "# optimizer.zero_grad() # Manually set the gradients to zero\n",
    "\n",
    "# print(weights)"
   ]
  },
  {
   "cell_type": "code",
   "execution_count": null,
   "id": "c3816577",
   "metadata": {},
   "outputs": [],
   "source": []
  }
 ],
 "metadata": {
  "kernelspec": {
   "display_name": "custom",
   "language": "python",
   "name": "python3"
  },
  "language_info": {
   "codemirror_mode": {
    "name": "ipython",
    "version": 3
   },
   "file_extension": ".py",
   "mimetype": "text/x-python",
   "name": "python",
   "nbconvert_exporter": "python",
   "pygments_lexer": "ipython3",
   "version": "3.11.11"
  }
 },
 "nbformat": 4,
 "nbformat_minor": 5
}

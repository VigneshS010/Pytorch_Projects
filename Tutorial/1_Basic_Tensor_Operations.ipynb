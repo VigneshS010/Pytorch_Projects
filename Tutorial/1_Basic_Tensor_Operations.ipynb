{
 "cells": [
  {
   "cell_type": "markdown",
   "id": "ef8c2915",
   "metadata": {},
   "source": [
    "### Check whether GPU available or not"
   ]
  },
  {
   "cell_type": "code",
   "execution_count": 5,
   "id": "416cb6a4-1aa9-4638-8864-3a3159c3f47f",
   "metadata": {},
   "outputs": [
    {
     "name": "stdout",
     "output_type": "stream",
     "text": [
      "True | NVIDIA GeForce GTX 1650\n"
     ]
    }
   ],
   "source": [
    "import torch\n",
    "\n",
    "torch.cuda.is_available()\n",
    "\n",
    "print(torch.cuda.is_available(),'|',torch.cuda.get_device_name(0))"
   ]
  },
  {
   "cell_type": "code",
   "execution_count": 11,
   "id": "1d65a4d3-c26b-412f-a4b3-34e3180b2017",
   "metadata": {},
   "outputs": [
    {
     "name": "stdout",
     "output_type": "stream",
     "text": [
      "tensor([[1.4108e-25, 0.0000e+00, 0.0000e+00],\n",
      "        [0.0000e+00, 1.9796e-25, 0.0000e+00],\n",
      "        [1.8515e-25, 0.0000e+00, 3.6416e-06]]) tensor([[[ 2.0008e-25,  0.0000e+00,  0.0000e+00,  0.0000e+00],\n",
      "         [ 1.5473e-07,  1.8145e+00, -4.5040e-26,  1.6527e+00]]])\n",
      "tensor([[0.6773, 0.5341],\n",
      "        [0.5921, 0.0197]])\n",
      "tensor([[0., 0.],\n",
      "        [0., 0.]])\n",
      "tensor([[1., 1.],\n",
      "        [1., 1.]])\n",
      "torch.float32\n",
      "torch.float64\n"
     ]
    }
   ],
   "source": [
    "# Initialize a Tensor in 2D and 3D\n",
    "\n",
    "x = torch.empty(3, 3)\n",
    "y = torch.empty(1, 2, 4)\n",
    "\n",
    "print(x, y)\n",
    "\n",
    "x = torch.rand(2, 2)\n",
    "\n",
    "y = torch.zeros(2, 2)\n",
    "\n",
    "z = torch.ones(2, 2)\n",
    "\n",
    "print(x)\n",
    "print(y)\n",
    "print(z)\n",
    "\n",
    "print(x.dtype)\n",
    "x = torch.rand(2, 2, dtype= torch.float64)\n",
    "print(x.dtype)"
   ]
  },
  {
   "cell_type": "code",
   "execution_count": 19,
   "id": "aab359d4-d1bc-43f6-b9da-53d08593acc4",
   "metadata": {},
   "outputs": [
    {
     "name": "stdout",
     "output_type": "stream",
     "text": [
      "tensor([5.5000, 3.0000])\n",
      "tensor([[0.6625, 0.7932],\n",
      "        [0.3110, 0.9593]]) tensor([[0.0939, 0.5919],\n",
      "        [0.8475, 0.3224]])\n",
      "Addition of tensors:\n",
      "tensor([[0.7563, 1.3851],\n",
      "        [1.1585, 1.2817]])\n",
      "tensor([[0.7563, 1.3851],\n",
      "        [1.1585, 1.2817]])\n",
      "Subtraction of tensors:\n",
      "tensor([[ 0.5686,  0.2013],\n",
      "        [-0.5365,  0.6369]])\n",
      "tensor([[ 0.5686,  0.2013],\n",
      "        [-0.5365,  0.6369]])\n",
      "Multiplication of tensors:\n",
      "tensor([[0.0622, 0.4695],\n",
      "        [0.2636, 0.3093]])\n",
      "tensor([[0.0622, 0.4695],\n",
      "        [0.2636, 0.3093]])\n",
      "Division of tensors:\n",
      "tensor([[7.0582, 1.3400],\n",
      "        [0.3669, 2.9755]])\n",
      "tensor([[7.0582, 1.3400],\n",
      "        [0.3669, 2.9755]])\n"
     ]
    }
   ],
   "source": [
    "# Creating tensors\n",
    "\n",
    "x = torch.tensor([5.5, 3])\n",
    "print(x)\n",
    "\n",
    "# Creating random tensors\n",
    "\n",
    "y = torch.rand(2, 2)\n",
    "z = torch.rand(2, 2)\n",
    "print(y, z)\n",
    "\n",
    "# Element-wise addition of tensors\n",
    "print('Addition of tensors:')\n",
    "print(torch.add(y, z))\n",
    "print(y + z)\n",
    "\n",
    "# Element-wise subtraction of tensors\n",
    "print('Subtraction of tensors:')\n",
    "print(torch.sub(y, z))\n",
    "print(y - z)\n",
    "\n",
    "# Element-wise multiplication of tensors\n",
    "print('Multiplication of tensors:')\n",
    "print(torch.mul(y, z))\n",
    "print(y * z)\n",
    "\n",
    "# Element-wise division of tensors\n",
    "print('Division of tensors:')\n",
    "print(torch.div(y, z))\n",
    "print(y / z)    "
   ]
  },
  {
   "cell_type": "code",
   "execution_count": 5,
   "id": "4df8ef01",
   "metadata": {},
   "outputs": [
    {
     "name": "stdout",
     "output_type": "stream",
     "text": [
      "tensor([[0.3613, 0.5636, 0.7010],\n",
      "        [0.3341, 0.1936, 0.4788],\n",
      "        [0.0954, 0.2888, 0.2974],\n",
      "        [0.1793, 0.1045, 0.6328],\n",
      "        [0.3135, 0.8689, 0.9961]])\n",
      "tensor([0.3613, 0.3341, 0.0954, 0.1793, 0.3135])\n",
      "tensor([0.3613, 0.5636, 0.7010])\n",
      "0.19360041618347168\n"
     ]
    }
   ],
   "source": [
    "x = torch.rand(5, 3)\n",
    "print(x)\n",
    "print(x[:, 0]) # all rows, first column\n",
    "print(x[0, :]) # second row, all columns\n",
    "\n",
    "print(x[1, 1].item()) # element at second row, second column"
   ]
  },
  {
   "cell_type": "code",
   "execution_count": 6,
   "id": "fe343d61",
   "metadata": {},
   "outputs": [
    {
     "name": "stdout",
     "output_type": "stream",
     "text": [
      "tensor([1., 1., 1., 1., 1.])\n",
      "[1. 1. 1. 1. 1.]\n",
      "<class 'torch.Tensor'> <class 'numpy.ndarray'>\n",
      "[0. 0. 0. 0. 0.]\n",
      "tensor([0., 0., 0., 0., 0.], dtype=torch.float64)\n",
      "<class 'numpy.ndarray'> <class 'torch.Tensor'>\n"
     ]
    }
   ],
   "source": [
    "# Coverting numpy arrays to tensors and vice versa\n",
    "\n",
    "import numpy as np\n",
    "import torch\n",
    "\n",
    "a = torch.ones(5)\n",
    "print(a)\n",
    "b = a.numpy()\n",
    "print(b)\n",
    "\n",
    "print(type(a), type(b))\n",
    "\n",
    "\n",
    "c = np.zeros(5)\n",
    "print(c)\n",
    "d = torch.from_numpy(c)\n",
    "print(d)\n",
    "\n",
    "print(type(c), type(d))"
   ]
  },
  {
   "cell_type": "markdown",
   "id": "6c77f5f3",
   "metadata": {},
   "source": [
    "### Numpy can only handle CPU tensors, it cant handle GPU tensors\n",
    "### So before converting tensor to numpy, make sure that tensor in the CPU "
   ]
  },
  {
   "cell_type": "code",
   "execution_count": 4,
   "id": "87314471",
   "metadata": {},
   "outputs": [
    {
     "name": "stdout",
     "output_type": "stream",
     "text": [
      "CUDA is available!\n",
      "tensor([2., 2., 2., 2., 2.])\n"
     ]
    }
   ],
   "source": [
    "import torch\n",
    "\n",
    "# Check if CUDA is available\n",
    "if torch.cuda.is_available():\n",
    "    print(\"CUDA is available!\")\n",
    "    device = torch.device(\"cuda\")\n",
    "    x = torch.ones(5, device = device)\n",
    "    y = torch.ones(5)\n",
    "    y = y.to(device)\n",
    "    z = x+y\n",
    "    z = z.to('cpu')\n",
    "    print(z)\n",
    "    \n",
    "else:\n",
    "    print(\"CUDA is not available. Running on CPU.\")"
   ]
  },
  {
   "cell_type": "code",
   "execution_count": 3,
   "id": "70fd57af",
   "metadata": {},
   "outputs": [
    {
     "name": "stdout",
     "output_type": "stream",
     "text": [
      "Sun Sep  7 19:20:52 2025       \n",
      "+-----------------------------------------------------------------------------------------+\n",
      "| NVIDIA-SMI 550.163.01             Driver Version: 550.163.01     CUDA Version: 12.4     |\n",
      "|-----------------------------------------+------------------------+----------------------+\n",
      "| GPU  Name                 Persistence-M | Bus-Id          Disp.A | Volatile Uncorr. ECC |\n",
      "| Fan  Temp   Perf          Pwr:Usage/Cap |           Memory-Usage | GPU-Util  Compute M. |\n",
      "|                                         |                        |               MIG M. |\n",
      "|=========================================+========================+======================|\n",
      "|   0  NVIDIA GeForce GTX 1650        Off |   00000000:01:00.0 Off |                  N/A |\n",
      "| N/A   55C    P3             15W /   35W |     322MiB /   4096MiB |     24%      Default |\n",
      "|                                         |                        |                  N/A |\n",
      "+-----------------------------------------+------------------------+----------------------+\n",
      "                                                                                         \n",
      "+-----------------------------------------------------------------------------------------+\n",
      "| Processes:                                                                              |\n",
      "|  GPU   GI   CI        PID   Type   Process name                              GPU Memory |\n",
      "|        ID   ID                                                               Usage      |\n",
      "|=========================================================================================|\n",
      "|    0   N/A  N/A      6821      G   /usr/lib/xorg/Xorg                             91MiB |\n",
      "|    0   N/A  N/A      7228      G   /usr/bin/gnome-shell                          155MiB |\n",
      "|    0   N/A  N/A      9490      G   /usr/share/code/code                           69MiB |\n",
      "+-----------------------------------------------------------------------------------------+\n"
     ]
    }
   ],
   "source": [
    "!nvidia-smi"
   ]
  },
  {
   "cell_type": "code",
   "execution_count": null,
   "id": "e832685d",
   "metadata": {},
   "outputs": [],
   "source": [
    "# require gradiants\n",
    "# the gradients will automatically calculated for this tensor during backpropagation\n",
    "# off - we dont use backpropagation and dont need to calclate gradients\n",
    "# on - we use backpropagation and need to calclate gradients \n",
    "x = torch.ones(2, 2, requires_grad=True)\n",
    "print(x)\n"
   ]
  }
 ],
 "metadata": {
  "kernelspec": {
   "display_name": "custom",
   "language": "python",
   "name": "python3"
  },
  "language_info": {
   "codemirror_mode": {
    "name": "ipython",
    "version": 3
   },
   "file_extension": ".py",
   "mimetype": "text/x-python",
   "name": "python",
   "nbconvert_exporter": "python",
   "pygments_lexer": "ipython3",
   "version": "3.11.11"
  }
 },
 "nbformat": 4,
 "nbformat_minor": 5
}
